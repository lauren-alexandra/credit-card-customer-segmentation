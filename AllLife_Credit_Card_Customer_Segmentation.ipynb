{
 "cells": [
  {
   "cell_type": "markdown",
   "metadata": {},
   "source": [
    "# Problem Statement:\n",
    "AllLife Credit Card Customer Segmentation\n",
    "\n",
    "Background: \n",
    "\n",
    "AllLife Bank wants to focus on its credit card customer base in the next financial year. They have been advised by their marketing research team, that the penetration in the market can be improved. Based on this input, the Marketing team proposes to run personalised campaigns to target new customers as well as upsell to existing customers. Another insight from the market research was that the customers perceive the support services of the back poorly. Based on this, the Operations team wants to upgrade the service delivery model, to ensure that customers queries are resolved faster. Head of Marketing and Head of Delivery both decide to reach out to the Data Science team for help.\n",
    " \n",
    "Objective: \n",
    "\n",
    "To identify different segments in the existing customer based on their spending patterns as well as past interaction with the bank.\n",
    "\n",
    "Key Questions:\n",
    "\n",
    "How many different segments of customers are there?\n",
    "How are these segments different from each other?\n",
    "What are your recommendations to the bank on how to better market to and service these customers?\n",
    " \n",
    "\n",
    "Data Description: \n",
    "\n",
    "Data is of various customers of a bank with their credit limit, the total number of credit cards the customer has, and different channels through which customer has contacted the bank for any queries, different channels include visiting the bank, online and through a call.\n",
    "\n",
    "- Customer key - Identifier for the customer \n",
    "- Average Credit Limit - Average credit limit across all the credit cards\n",
    "- Total credit cards - Total number of credit cards\n",
    "- Total visits bank - Total number of bank visits\n",
    "- Total visits online - total number of online visits\n",
    "- Total calls made - Total number of calls made by the customer"
   ]
  }
 ],
 "metadata": {
  "kernelspec": {
   "display_name": "Python 3",
   "language": "python",
   "name": "python3"
  },
  "language_info": {
   "codemirror_mode": {
    "name": "ipython",
    "version": 3
   },
   "file_extension": ".py",
   "mimetype": "text/x-python",
   "name": "python",
   "nbconvert_exporter": "python",
   "pygments_lexer": "ipython3",
   "version": "3.7.3"
  }
 },
 "nbformat": 4,
 "nbformat_minor": 2
}
